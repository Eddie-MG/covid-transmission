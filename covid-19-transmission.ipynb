{
 "cells": [
  {
   "cell_type": "code",
   "execution_count": 1,
   "metadata": {
    "colab": {
     "base_uri": "https://localhost:8080/",
     "height": 34
    },
    "colab_type": "code",
    "executionInfo": {
     "elapsed": 1676,
     "status": "ok",
     "timestamp": 1585010860883,
     "user": {
      "displayName": "Kai Western",
      "photoUrl": "",
      "userId": "03358880396102366082"
     },
     "user_tz": 0
    },
    "id": "vAE6ObDKAGYy",
    "outputId": "dff86ba8-3291-4c00-b067-30d3d92e7836"
   },
   "outputs": [],
   "source": [
    "import pandas as pd\n",
    "import numpy as np\n",
    "import random"
   ]
  },
  {
   "cell_type": "markdown",
   "metadata": {
    "colab_type": "text",
    "id": "y169DRxCBasL"
   },
   "source": [
    "## Eddie's Code"
   ]
  },
  {
   "cell_type": "code",
   "execution_count": 2,
   "metadata": {
    "colab": {},
    "colab_type": "code",
    "id": "QPV8FZJjARTg"
   },
   "outputs": [],
   "source": [
    "glob_pop = []\n",
    "\n",
    "# states\n",
    "states = ['well', 'infected-a', 'infected-s', 'recovered', 'dead']\n",
    "jobs = ['student', 'doctor', 'lawyer', 'police person', 'shop assistant', 'unemployed', 'retired']\n",
    "job_type = ['student', 'high-income', 'low-income', 'retired']\n",
    "class dude:\n",
    "    def __init__(self, occupation, age, name, state=states[0], underlying_conditions=False, network=[]):\n",
    "        self.job = occupation\n",
    "        self.name = name\n",
    "        self.age = age\n",
    "        self.state = state\n",
    "        self.under_cond = underlying_conditions\n",
    "        self.network = network\n",
    "        self.elapsed_infected = 0\n",
    "        self.r_time = random.randint(4,14)\n",
    "\n",
    "    def __str__(self):\n",
    "        return \"Job: {} Age: {} State: {}\".format(self.job, self.age, self.state)\n",
    "\n",
    "    def __repr__(self):\n",
    "        return \"Job: {} Age: {} State: {}\".format(self.job, self.age, self.state)\n",
    "\n",
    "    def infect(self):\n",
    "        # The person is more likely to be symptomatic (but this is assumed).\n",
    "        self.elapsed_infected = 0\n",
    "        self.state = states[random.choices([1,2], [1,3])[0]]\n",
    "        return self\n",
    "\n",
    "    def uninfect(self):\n",
    "        # The person was not actually infected\n",
    "        self.state = states[0]\n",
    "        return self\n",
    "\n",
    "    def recover(self, val):\n",
    "        # The person was infected but has now recovered\n",
    "        self.state = states[val]\n",
    "        return self\n",
    "\n",
    "class group:\n",
    "    def __init__(self, size, rate, code, type_):\n",
    "        self.code = code\n",
    "        self.type = type_\n",
    "        self.transmission_rate = rate\n",
    "        self.demographics = [0, 0, 0]\n",
    "        self.infected_count = 0\n",
    "        self.transmissions = 0\n",
    "        self.size = size\n",
    "        self.members = []\n",
    "        \n",
    "    def __str__(self):\n",
    "        return \"Size: {} Infected: {}\".format(self.size, self.infected_count)\n",
    "\n",
    "    def __repr__(self):\n",
    "        return \"Code: {} Size: {} Infected: {} T-rate: {:.2f}\".format(self.code, self.size, self.infected_count, self.transmission_rate)\n",
    "\n",
    "    def display(self):\n",
    "        print(\"Code: {} Size: {} Infected: {}\".format(self.code, self.size, self.infected_count))\n",
    "        return\n",
    "\n",
    "    def get_members(self):\n",
    "        return self.members\n",
    "    \n",
    "    def plastic(self):\n",
    "        self.infected_count += np.random.choice([1,0], p=[self.transmission_rate, 1-self.transmission_rate])\n",
    "        \n",
    "    def transmit(self):\n",
    "        mems = random.sample(self.members, self.infected_count)\n",
    "        for mem in mems:\n",
    "            mem.infect()\n",
    "        self.infected_count = 0\n",
    "\n",
    "def get_group(g_list, code):\n",
    "    for grp in g_list:\n",
    "        if grp.code == code:\n",
    "            return grp\n",
    "        \n",
    "def get_person(p_list, name):\n",
    "    for p in p_list:\n",
    "        if p.name == name:\n",
    "            return p\n",
    "    print('No person with this name')\n",
    "    return None\n",
    "\n",
    "def build_df(lst, what):\n",
    "    if what == 'g':\n",
    "        dct = {'code': [], 'type': [], 't-rate': [], 'size': []}\n",
    "    \n",
    "        for thing in lst:\n",
    "            for tin in thing:\n",
    "                dct['code'].append(tin.code)\n",
    "                dct['type'].append(tin.type)\n",
    "                dct['t-rate'].append(tin.transmission_rate)\n",
    "                dct['size'].append(tin.size)\n",
    "                \n",
    "    else:\n",
    "        dct = {'name': [], 'age': [], 'state': [], 'job': []}\n",
    "    \n",
    "        for thing in lst:\n",
    "            for tin in thing:\n",
    "                dct['name'].append(tin.name)\n",
    "                dct['age'].append(tin.age)\n",
    "                dct['state'].append(tin.state)\n",
    "                dct['job'].append(tin.job)\n",
    "    \n",
    "    return pd.DataFrame(dct)\n",
    "\n",
    "def create_houses(comm_size):\n",
    "    houses = []\n",
    "    \n",
    "    for i in range(0, comm_size):\n",
    "        rate = random.random()\n",
    "        size = random.randint(1, 4)\n",
    "        grp = group(size, rate, i, 'inner')\n",
    "        houses.append(grp)\n",
    "    return houses\n",
    "\n",
    "def init_peeps(houses):\n",
    "    peeps = []\n",
    "    \n",
    "    for i in range(0, len(houses)):\n",
    "        job = random.choice(job_type)\n",
    "        age = random.randint(18, 80)\n",
    "        person = dude(job, age, i, network=[houses[i]])\n",
    "        houses[i].members.append(person)\n",
    "        peeps.append(person)\n",
    "        \n",
    "    return peeps\n",
    "\n",
    "def populate_houses(people, hs):\n",
    "    pep_cnt = len(people)\n",
    "    \n",
    "    for house in hs:\n",
    "        job = house.members[0].job\n",
    "\n",
    "        for new_member in range(0, house.size - 1):\n",
    "            age = abs(house.members[0].age + random.randint(-5, 5))\n",
    "            person = dude(job, age, pep_cnt, network=[house])\n",
    "            house.members.append(person)\n",
    "            people.append(person)\n",
    "            pep_cnt +=1\n",
    "            \n",
    "    return\n",
    "\n",
    "def genesis(comm_size):\n",
    "    houses = create_houses(comm_size)\n",
    "    \n",
    "    peeps = init_peeps(houses)\n",
    "    \n",
    "    populate_houses(peeps, houses)\n",
    "    \n",
    "    return houses, peeps\n"
   ]
  },
  {
   "cell_type": "markdown",
   "metadata": {},
   "source": [
    "### Initial population creation and first circle"
   ]
  },
  {
   "cell_type": "code",
   "execution_count": 3,
   "metadata": {},
   "outputs": [],
   "source": [
    "houses, peeps = genesis(30000)"
   ]
  },
  {
   "cell_type": "markdown",
   "metadata": {},
   "source": [
    "### Second Circle"
   ]
  },
  {
   "cell_type": "code",
   "execution_count": 4,
   "metadata": {},
   "outputs": [
    {
     "data": {
      "text/plain": [
       "74843"
      ]
     },
     "execution_count": 4,
     "metadata": {},
     "output_type": "execute_result"
    }
   ],
   "source": [
    "len(peeps)"
   ]
  },
  {
   "cell_type": "code",
   "execution_count": 5,
   "metadata": {},
   "outputs": [],
   "source": [
    "# Size of outer circles, dependent on populaiton size\n",
    "ocircle_size = int(len(peeps) * 0.008 + random.randint(-5, 5))"
   ]
  },
  {
   "cell_type": "code",
   "execution_count": 6,
   "metadata": {},
   "outputs": [],
   "source": [
    "# Number of outer circles, dependent on inner circle count\n",
    "ocircle_count = int((len(peeps) / ocircle_size) * 0.95)"
   ]
  },
  {
   "cell_type": "code",
   "execution_count": 7,
   "metadata": {},
   "outputs": [
    {
     "data": {
      "text/plain": [
       "70924"
      ]
     },
     "execution_count": 7,
     "metadata": {},
     "output_type": "execute_result"
    }
   ],
   "source": [
    "ocircle_size * ocircle_count"
   ]
  },
  {
   "cell_type": "code",
   "execution_count": 8,
   "metadata": {},
   "outputs": [],
   "source": [
    "ocircs = []\n",
    "for i in range(0, ocircle_count):\n",
    "    # Lower rates for outr circles\n",
    "    rate = random.uniform(0,0.5)\n",
    "    size = int(len(peeps) * 0.008 + random.randint(-5, 5))\n",
    "    grp = group(size, rate, i, 'outer')\n",
    "    ocircs.append(grp)"
   ]
  },
  {
   "cell_type": "code",
   "execution_count": 9,
   "metadata": {},
   "outputs": [],
   "source": [
    "for pepe in peeps:\n",
    "    nets = random.sample(ocircs, random.randint(1,3))\n",
    "    for net in nets:\n",
    "        net.members.append(pepe)\n",
    "        pepe.network.append(net)"
   ]
  },
  {
   "cell_type": "code",
   "execution_count": 10,
   "metadata": {},
   "outputs": [],
   "source": [
    "networks = houses + ocircs"
   ]
  },
  {
   "cell_type": "markdown",
   "metadata": {},
   "source": [
    "### Explore the Networks"
   ]
  },
  {
   "cell_type": "code",
   "execution_count": 24,
   "metadata": {
    "scrolled": true
   },
   "outputs": [
    {
     "name": "stdout",
     "output_type": "stream",
     "text": [
      "30285 Job: high-income Age: 47 State: 0\n",
      "188 Size: 4 Infected: 0\n",
      "57 Size: 599 Infected: 0\n",
      "63 Size: 603 Infected: 0\n",
      "66907 Job: retired Age: 79 State: 0\n",
      "24639 Size: 3 Infected: 0\n",
      "87 Size: 602 Infected: 0\n",
      "94 Size: 595 Infected: 0\n",
      "99 Size: 600 Infected: 0\n",
      "1533 Job: student Age: 37 State: 0\n",
      "1533 Size: 4 Infected: 0\n",
      "116 Size: 602 Infected: 0\n",
      "69905 Job: retired Age: 69 State: 0\n",
      "26620 Size: 4 Infected: 0\n",
      "65 Size: 599 Infected: 0\n",
      "59 Size: 598 Infected: 0\n",
      "72 Size: 604 Infected: 0\n",
      "39229 Job: low-income Age: 73 State: 0\n",
      "6193 Size: 3 Infected: 0\n",
      "86 Size: 600 Infected: 0\n"
     ]
    }
   ],
   "source": [
    "pepsam = random.sample(peeps, 5)\n",
    "\n",
    "for pep in pepsam:\n",
    "    print(pep.name, pep)\n",
    "    for net in pep.network:\n",
    "        print(net.code, net)"
   ]
  },
  {
   "cell_type": "code",
   "execution_count": 25,
   "metadata": {},
   "outputs": [
    {
     "data": {
      "text/plain": [
       "Code: 32 Size: 594 Infected: 0 T-rate: 0.26"
      ]
     },
     "execution_count": 25,
     "metadata": {},
     "output_type": "execute_result"
    }
   ],
   "source": [
    "get_group(ocircs, 32)"
   ]
  },
  {
   "cell_type": "code",
   "execution_count": 26,
   "metadata": {},
   "outputs": [
    {
     "name": "stdout",
     "output_type": "stream",
     "text": [
      "Code: 30 Size: 599 Infected: 0\n"
     ]
    }
   ],
   "source": [
    "for cir in ocircs:\n",
    "    if cir.code == 30:\n",
    "        cir.display()"
   ]
  },
  {
   "cell_type": "code",
   "execution_count": 27,
   "metadata": {
    "scrolled": true
   },
   "outputs": [
    {
     "name": "stdout",
     "output_type": "stream",
     "text": [
      "Job: retired Age: 59 State: 0\n"
     ]
    }
   ],
   "source": [
    "print(random.choice(random.choice(ocircs).members))"
   ]
  },
  {
   "cell_type": "code",
   "execution_count": 28,
   "metadata": {},
   "outputs": [
    {
     "name": "stdout",
     "output_type": "stream",
     "text": [
      "Size: 3 Infected: 0\n"
     ]
    }
   ],
   "source": [
    "print(peeps[5].network[0])"
   ]
  },
  {
   "cell_type": "markdown",
   "metadata": {},
   "source": [
    "### Community Code Infrastructure"
   ]
  },
  {
   "cell_type": "code",
   "execution_count": 13,
   "metadata": {
    "scrolled": false
   },
   "outputs": [
    {
     "data": {
      "text/html": [
       "<div>\n",
       "<style scoped>\n",
       "    .dataframe tbody tr th:only-of-type {\n",
       "        vertical-align: middle;\n",
       "    }\n",
       "\n",
       "    .dataframe tbody tr th {\n",
       "        vertical-align: top;\n",
       "    }\n",
       "\n",
       "    .dataframe thead th {\n",
       "        text-align: right;\n",
       "    }\n",
       "</style>\n",
       "<table border=\"1\" class=\"dataframe\">\n",
       "  <thead>\n",
       "    <tr style=\"text-align: right;\">\n",
       "      <th></th>\n",
       "      <th>code</th>\n",
       "      <th>type</th>\n",
       "      <th>t-rate</th>\n",
       "      <th>size</th>\n",
       "    </tr>\n",
       "  </thead>\n",
       "  <tbody>\n",
       "    <tr>\n",
       "      <td>0</td>\n",
       "      <td>0</td>\n",
       "      <td>inner</td>\n",
       "      <td>0.000849</td>\n",
       "      <td>2</td>\n",
       "    </tr>\n",
       "    <tr>\n",
       "      <td>1</td>\n",
       "      <td>1</td>\n",
       "      <td>inner</td>\n",
       "      <td>0.257237</td>\n",
       "      <td>3</td>\n",
       "    </tr>\n",
       "    <tr>\n",
       "      <td>2</td>\n",
       "      <td>2</td>\n",
       "      <td>inner</td>\n",
       "      <td>0.897786</td>\n",
       "      <td>3</td>\n",
       "    </tr>\n",
       "    <tr>\n",
       "      <td>3</td>\n",
       "      <td>3</td>\n",
       "      <td>inner</td>\n",
       "      <td>0.152369</td>\n",
       "      <td>1</td>\n",
       "    </tr>\n",
       "    <tr>\n",
       "      <td>4</td>\n",
       "      <td>4</td>\n",
       "      <td>inner</td>\n",
       "      <td>0.070122</td>\n",
       "      <td>3</td>\n",
       "    </tr>\n",
       "    <tr>\n",
       "      <td>...</td>\n",
       "      <td>...</td>\n",
       "      <td>...</td>\n",
       "      <td>...</td>\n",
       "      <td>...</td>\n",
       "    </tr>\n",
       "    <tr>\n",
       "      <td>30113</td>\n",
       "      <td>113</td>\n",
       "      <td>outer</td>\n",
       "      <td>0.274119</td>\n",
       "      <td>600</td>\n",
       "    </tr>\n",
       "    <tr>\n",
       "      <td>30114</td>\n",
       "      <td>114</td>\n",
       "      <td>outer</td>\n",
       "      <td>0.248518</td>\n",
       "      <td>596</td>\n",
       "    </tr>\n",
       "    <tr>\n",
       "      <td>30115</td>\n",
       "      <td>115</td>\n",
       "      <td>outer</td>\n",
       "      <td>0.418092</td>\n",
       "      <td>599</td>\n",
       "    </tr>\n",
       "    <tr>\n",
       "      <td>30116</td>\n",
       "      <td>116</td>\n",
       "      <td>outer</td>\n",
       "      <td>0.214742</td>\n",
       "      <td>600</td>\n",
       "    </tr>\n",
       "    <tr>\n",
       "      <td>30117</td>\n",
       "      <td>117</td>\n",
       "      <td>outer</td>\n",
       "      <td>0.328089</td>\n",
       "      <td>605</td>\n",
       "    </tr>\n",
       "  </tbody>\n",
       "</table>\n",
       "<p>30118 rows × 4 columns</p>\n",
       "</div>"
      ],
      "text/plain": [
       "       code   type    t-rate  size\n",
       "0         0  inner  0.000849     2\n",
       "1         1  inner  0.257237     3\n",
       "2         2  inner  0.897786     3\n",
       "3         3  inner  0.152369     1\n",
       "4         4  inner  0.070122     3\n",
       "...     ...    ...       ...   ...\n",
       "30113   113  outer  0.274119   600\n",
       "30114   114  outer  0.248518   596\n",
       "30115   115  outer  0.418092   599\n",
       "30116   116  outer  0.214742   600\n",
       "30117   117  outer  0.328089   605\n",
       "\n",
       "[30118 rows x 4 columns]"
      ]
     },
     "execution_count": 13,
     "metadata": {},
     "output_type": "execute_result"
    }
   ],
   "source": [
    "build_df([houses, ocircs], 'g')"
   ]
  },
  {
   "cell_type": "code",
   "execution_count": 12,
   "metadata": {
    "scrolled": false
   },
   "outputs": [],
   "source": [
    "circs = build_df([networks], 'g')"
   ]
  },
  {
   "cell_type": "code",
   "execution_count": 13,
   "metadata": {
    "scrolled": true
   },
   "outputs": [
    {
     "data": {
      "text/html": [
       "<div>\n",
       "<style scoped>\n",
       "    .dataframe tbody tr th:only-of-type {\n",
       "        vertical-align: middle;\n",
       "    }\n",
       "\n",
       "    .dataframe tbody tr th {\n",
       "        vertical-align: top;\n",
       "    }\n",
       "\n",
       "    .dataframe thead th {\n",
       "        text-align: right;\n",
       "    }\n",
       "</style>\n",
       "<table border=\"1\" class=\"dataframe\">\n",
       "  <thead>\n",
       "    <tr style=\"text-align: right;\">\n",
       "      <th></th>\n",
       "      <th>code</th>\n",
       "      <th>type</th>\n",
       "      <th>t-rate</th>\n",
       "      <th>size</th>\n",
       "    </tr>\n",
       "  </thead>\n",
       "  <tbody>\n",
       "    <tr>\n",
       "      <td>30012</td>\n",
       "      <td>12</td>\n",
       "      <td>outer</td>\n",
       "      <td>0.499209</td>\n",
       "      <td>594</td>\n",
       "    </tr>\n",
       "    <tr>\n",
       "      <td>30026</td>\n",
       "      <td>26</td>\n",
       "      <td>outer</td>\n",
       "      <td>0.497126</td>\n",
       "      <td>594</td>\n",
       "    </tr>\n",
       "    <tr>\n",
       "      <td>30000</td>\n",
       "      <td>0</td>\n",
       "      <td>outer</td>\n",
       "      <td>0.496561</td>\n",
       "      <td>598</td>\n",
       "    </tr>\n",
       "    <tr>\n",
       "      <td>30070</td>\n",
       "      <td>70</td>\n",
       "      <td>outer</td>\n",
       "      <td>0.493727</td>\n",
       "      <td>599</td>\n",
       "    </tr>\n",
       "    <tr>\n",
       "      <td>30050</td>\n",
       "      <td>50</td>\n",
       "      <td>outer</td>\n",
       "      <td>0.492916</td>\n",
       "      <td>595</td>\n",
       "    </tr>\n",
       "    <tr>\n",
       "      <td>...</td>\n",
       "      <td>...</td>\n",
       "      <td>...</td>\n",
       "      <td>...</td>\n",
       "      <td>...</td>\n",
       "    </tr>\n",
       "    <tr>\n",
       "      <td>30073</td>\n",
       "      <td>73</td>\n",
       "      <td>outer</td>\n",
       "      <td>0.009176</td>\n",
       "      <td>603</td>\n",
       "    </tr>\n",
       "    <tr>\n",
       "      <td>30105</td>\n",
       "      <td>105</td>\n",
       "      <td>outer</td>\n",
       "      <td>0.005899</td>\n",
       "      <td>599</td>\n",
       "    </tr>\n",
       "    <tr>\n",
       "      <td>30100</td>\n",
       "      <td>100</td>\n",
       "      <td>outer</td>\n",
       "      <td>0.004134</td>\n",
       "      <td>601</td>\n",
       "    </tr>\n",
       "    <tr>\n",
       "      <td>30080</td>\n",
       "      <td>80</td>\n",
       "      <td>outer</td>\n",
       "      <td>0.003362</td>\n",
       "      <td>594</td>\n",
       "    </tr>\n",
       "    <tr>\n",
       "      <td>30110</td>\n",
       "      <td>110</td>\n",
       "      <td>outer</td>\n",
       "      <td>0.000012</td>\n",
       "      <td>599</td>\n",
       "    </tr>\n",
       "  </tbody>\n",
       "</table>\n",
       "<p>118 rows × 4 columns</p>\n",
       "</div>"
      ],
      "text/plain": [
       "       code   type    t-rate  size\n",
       "30012    12  outer  0.499209   594\n",
       "30026    26  outer  0.497126   594\n",
       "30000     0  outer  0.496561   598\n",
       "30070    70  outer  0.493727   599\n",
       "30050    50  outer  0.492916   595\n",
       "...     ...    ...       ...   ...\n",
       "30073    73  outer  0.009176   603\n",
       "30105   105  outer  0.005899   599\n",
       "30100   100  outer  0.004134   601\n",
       "30080    80  outer  0.003362   594\n",
       "30110   110  outer  0.000012   599\n",
       "\n",
       "[118 rows x 4 columns]"
      ]
     },
     "execution_count": 13,
     "metadata": {},
     "output_type": "execute_result"
    }
   ],
   "source": [
    "circs[circs['type'] == 'outer'].sort_values('t-rate', ascending=False)"
   ]
  },
  {
   "cell_type": "code",
   "execution_count": 14,
   "metadata": {},
   "outputs": [
    {
     "data": {
      "text/html": [
       "<div>\n",
       "<style scoped>\n",
       "    .dataframe tbody tr th:only-of-type {\n",
       "        vertical-align: middle;\n",
       "    }\n",
       "\n",
       "    .dataframe tbody tr th {\n",
       "        vertical-align: top;\n",
       "    }\n",
       "\n",
       "    .dataframe thead th {\n",
       "        text-align: right;\n",
       "    }\n",
       "</style>\n",
       "<table border=\"1\" class=\"dataframe\">\n",
       "  <thead>\n",
       "    <tr style=\"text-align: right;\">\n",
       "      <th></th>\n",
       "      <th>name</th>\n",
       "      <th>age</th>\n",
       "      <th>state</th>\n",
       "      <th>job</th>\n",
       "    </tr>\n",
       "  </thead>\n",
       "  <tbody>\n",
       "    <tr>\n",
       "      <td>75055</td>\n",
       "      <td>75055</td>\n",
       "      <td>47</td>\n",
       "      <td>well</td>\n",
       "      <td>high-income</td>\n",
       "    </tr>\n",
       "    <tr>\n",
       "      <td>75056</td>\n",
       "      <td>75056</td>\n",
       "      <td>44</td>\n",
       "      <td>well</td>\n",
       "      <td>high-income</td>\n",
       "    </tr>\n",
       "    <tr>\n",
       "      <td>75057</td>\n",
       "      <td>75057</td>\n",
       "      <td>40</td>\n",
       "      <td>well</td>\n",
       "      <td>low-income</td>\n",
       "    </tr>\n",
       "    <tr>\n",
       "      <td>75058</td>\n",
       "      <td>75058</td>\n",
       "      <td>41</td>\n",
       "      <td>well</td>\n",
       "      <td>low-income</td>\n",
       "    </tr>\n",
       "    <tr>\n",
       "      <td>75059</td>\n",
       "      <td>75059</td>\n",
       "      <td>38</td>\n",
       "      <td>well</td>\n",
       "      <td>low-income</td>\n",
       "    </tr>\n",
       "  </tbody>\n",
       "</table>\n",
       "</div>"
      ],
      "text/plain": [
       "        name  age state          job\n",
       "75055  75055   47  well  high-income\n",
       "75056  75056   44  well  high-income\n",
       "75057  75057   40  well   low-income\n",
       "75058  75058   41  well   low-income\n",
       "75059  75059   38  well   low-income"
      ]
     },
     "execution_count": 14,
     "metadata": {},
     "output_type": "execute_result"
    }
   ],
   "source": [
    "build_df([peeps], 'p').tail()"
   ]
  },
  {
   "cell_type": "markdown",
   "metadata": {},
   "source": [
    "### Transmission Simulation"
   ]
  },
  {
   "cell_type": "code",
   "execution_count": 11,
   "metadata": {},
   "outputs": [
    {
     "name": "stdout",
     "output_type": "stream",
     "text": [
      "18926 well\n",
      "18926 infected-s\n"
     ]
    }
   ],
   "source": [
    "# Begin by infecting one person\n",
    "r_pep = random.choice(peeps)\n",
    "print(r_pep.name, r_pep.state)\n",
    "r_pep.infect()\n",
    "print(r_pep.name, r_pep.state)"
   ]
  },
  {
   "cell_type": "code",
   "execution_count": 12,
   "metadata": {},
   "outputs": [
    {
     "data": {
      "text/plain": [
       "0"
      ]
     },
     "execution_count": 12,
     "metadata": {},
     "output_type": "execute_result"
    }
   ],
   "source": [
    "get_group(ocircs, 82).infected_count"
   ]
  },
  {
   "cell_type": "code",
   "execution_count": 21,
   "metadata": {},
   "outputs": [
    {
     "data": {
      "text/plain": [
       "5"
      ]
     },
     "execution_count": 21,
     "metadata": {},
     "output_type": "execute_result"
    }
   ],
   "source": [
    "get_person(peeps, 18926).r_time"
   ]
  },
  {
   "cell_type": "code",
   "execution_count": 26,
   "metadata": {},
   "outputs": [
    {
     "data": {
      "text/plain": [
       "3"
      ]
     },
     "execution_count": 26,
     "metadata": {},
     "output_type": "execute_result"
    }
   ],
   "source": [
    "get_person(peeps, 18926).elapsed_infected"
   ]
  },
  {
   "cell_type": "code",
   "execution_count": 64,
   "metadata": {
    "scrolled": true
   },
   "outputs": [],
   "source": [
    "for person in peeps:\n",
    "    if (person.state == states[1]) or (person.state == states[2]):\n",
    "        person.elapsed_infected += 1\n",
    "        for net in person.network:\n",
    "            net.plastic()\n",
    "        if person.elapsed_infected >= person.r_time:\n",
    "            person.recover(np.random.choice([3,4], p=[0.95, 0.05]))\n",
    "            "
   ]
  },
  {
   "cell_type": "code",
   "execution_count": 65,
   "metadata": {
    "scrolled": true
   },
   "outputs": [],
   "source": [
    "for n in networks:\n",
    "    if n.infected_count > 0:\n",
    "        n.transmit()\n",
    "        "
   ]
  },
  {
   "cell_type": "code",
   "execution_count": 66,
   "metadata": {
    "scrolled": true
   },
   "outputs": [
    {
     "data": {
      "text/plain": [
       "well          63105\n",
       "infected-s     8746\n",
       "infected-a     2934\n",
       "recovered        56\n",
       "dead              2\n",
       "Name: state, dtype: int64"
      ]
     },
     "execution_count": 66,
     "metadata": {},
     "output_type": "execute_result"
    }
   ],
   "source": [
    "build_df([peeps], 'p')['state'].value_counts()"
   ]
  }
 ],
 "metadata": {
  "colab": {
   "collapsed_sections": [],
   "name": "covid-19-transmission.ipynb",
   "provenance": []
  },
  "kernelspec": {
   "display_name": "Python 3",
   "language": "python",
   "name": "python3"
  },
  "language_info": {
   "codemirror_mode": {
    "name": "ipython",
    "version": 3
   },
   "file_extension": ".py",
   "mimetype": "text/x-python",
   "name": "python",
   "nbconvert_exporter": "python",
   "pygments_lexer": "ipython3",
   "version": "3.7.4"
  }
 },
 "nbformat": 4,
 "nbformat_minor": 1
}
