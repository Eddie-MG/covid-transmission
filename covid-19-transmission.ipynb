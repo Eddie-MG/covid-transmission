{
 "cells": [
  {
   "cell_type": "code",
   "execution_count": 1,
   "metadata": {
    "colab": {
     "base_uri": "https://localhost:8080/",
     "height": 34
    },
    "colab_type": "code",
    "executionInfo": {
     "elapsed": 1676,
     "status": "ok",
     "timestamp": 1585010860883,
     "user": {
      "displayName": "Kai Western",
      "photoUrl": "",
      "userId": "03358880396102366082"
     },
     "user_tz": 0
    },
    "id": "vAE6ObDKAGYy",
    "outputId": "dff86ba8-3291-4c00-b067-30d3d92e7836"
   },
   "outputs": [],
   "source": [
    "import pandas as pd\n",
    "import numpy as np\n",
    "import random"
   ]
  },
  {
   "cell_type": "markdown",
   "metadata": {
    "colab_type": "text",
    "id": "y169DRxCBasL"
   },
   "source": [
    "## Kai's Code"
   ]
  },
  {
   "cell_type": "code",
   "execution_count": 0,
   "metadata": {
    "colab": {},
    "colab_type": "code",
    "id": "QPV8FZJjARTg"
   },
   "outputs": [],
   "source": [
    "glob_pop = []\n",
    "\n",
    "# states\n",
    "states = ['well', 'infected-a', 'infected-s', 'recovered', 'dead']\n",
    "class dude:\n",
    "      def __init__(self, occupation, age, state=0, underlying_conditions=False, network=[]):\n",
    "        self.job = occupation\n",
    "        self.age = age\n",
    "        self.state = state\n",
    "        self.under_cond = underlying_conditions\n",
    "        self.network = {'john': 'near', 'james':'far'}\n",
    "        self.network = [groupa]\n",
    "        \n",
    "class group:\n",
    "    def __init__(self):\n",
    "        self.transmission_rate = 0.0\n",
    "        self.demographics = [0, 0, 0]\n",
    "        self.infected_count = 0\n",
    "        self.memebers = []\n",
    "        \n",
    "        \n",
    "\n",
    "Eddie = dude('developer', age=21)\n",
    "Kai = dude('student', age=21)\n",
    "Sihan = dude(occupation='student', age=22, state=0)\n",
    "\n"
   ]
  },
  {
   "cell_type": "markdown",
   "metadata": {
    "colab_type": "text",
    "id": "HdBLdZnIBesD"
   },
   "source": [
    "## Eddie's Code"
   ]
  },
  {
   "cell_type": "code",
   "execution_count": 39,
   "metadata": {
    "colab": {},
    "colab_type": "code",
    "id": "QPV8FZJjARTg"
   },
   "outputs": [],
   "source": [
    "glob_pop = []\n",
    "\n",
    "# states\n",
    "states = ['well', 'infected-a', 'infected-s', 'recovered', 'dead']\n",
    "jobs = ['student', 'doctor', 'lawyer', 'police person', 'shop assistant', 'unemployed', 'retired']\n",
    "job_type = ['student', 'high-income', 'low-income', 'retired']\n",
    "class dude:\n",
    "    def __init__(self, occupation, age, state=0, underlying_conditions=False, network=[]):\n",
    "        self.job = occupation\n",
    "        self.age = age\n",
    "        self.state = state\n",
    "        self.under_cond = underlying_conditions\n",
    "        self.network = network\n",
    "    \n",
    "    def __str__(self):\n",
    "        \n",
    "            return \"Job: {}, Age: {}, State: {}\".format(self.job, self.age, self.state)\n",
    "        \n",
    "        \n",
    "class group:\n",
    "    def __init__(self, size, rate):\n",
    "        self.transmission_rate = rate\n",
    "        self.demographics = [0, 0, 0]\n",
    "        self.infected_count = 0\n",
    "        self.size = size\n",
    "        self.members = []\n",
    "        \n",
    "    def __str__(self):\n",
    "        \n",
    "            return \"Size: {}, Infected: {}\".format(self.size, self.infected_count)\n",
    "\n",
    "        "
   ]
  },
  {
   "cell_type": "markdown",
   "metadata": {},
   "source": [
    "House and initial population creation"
   ]
  },
  {
   "cell_type": "code",
   "execution_count": 51,
   "metadata": {},
   "outputs": [],
   "source": [
    "comm_size = 10\n",
    "\n",
    "houses = []\n",
    "for i in range(0, comm_size):\n",
    "    rate = random.random()\n",
    "    size = random.randint(1, 7)\n",
    "    grp = group(size, rate)\n",
    "    houses.append(grp)"
   ]
  },
  {
   "cell_type": "code",
   "execution_count": 52,
   "metadata": {},
   "outputs": [],
   "source": [
    "peeps = []\n",
    "for i in range(0, len(houses)):\n",
    "    job = random.choice(job_type)\n",
    "    age = random.randint(18, 80)\n",
    "    person = dude(job, age, network=[houses[i]])\n",
    "    houses[i].members.append(person)\n",
    "    peeps.append(person)"
   ]
  },
  {
   "cell_type": "code",
   "execution_count": 53,
   "metadata": {},
   "outputs": [
    {
     "name": "stdout",
     "output_type": "stream",
     "text": [
      "Job: retired, Age: 37, State: 0\n",
      "Job: student, Age: 26, State: 0\n",
      "Job: high-income, Age: 30, State: 0\n",
      "Job: high-income, Age: 64, State: 0\n",
      "Job: retired, Age: 69, State: 0\n",
      "Job: high-income, Age: 31, State: 0\n",
      "Job: high-income, Age: 61, State: 0\n",
      "Job: retired, Age: 50, State: 0\n",
      "Job: student, Age: 32, State: 0\n",
      "Job: student, Age: 26, State: 0\n"
     ]
    }
   ],
   "source": [
    "for pep in peeps:\n",
    "    print(pep)"
   ]
  },
  {
   "cell_type": "code",
   "execution_count": 54,
   "metadata": {},
   "outputs": [],
   "source": [
    "for house in houses:\n",
    "    job = house.members[0].job\n",
    "    \n",
    "    for new_member in range(0, house.size -1):\n",
    "        age = abs(house.members[0].age + random.randint(-5, 5))\n",
    "        person = dude(job, age, network=[house])\n",
    "        house.members.append(person)\n",
    "        "
   ]
  },
  {
   "cell_type": "code",
   "execution_count": 55,
   "metadata": {},
   "outputs": [
    {
     "name": "stdout",
     "output_type": "stream",
     "text": [
      "Size: 6, Infected: 0\n",
      "0 Job: retired, Age: 37, State: 0\n",
      "1 Job: retired, Age: 32, State: 0\n",
      "2 Job: retired, Age: 40, State: 0\n",
      "3 Job: retired, Age: 34, State: 0\n",
      "4 Job: retired, Age: 32, State: 0\n",
      "5 Job: retired, Age: 42, State: 0\n",
      "Size: 2, Infected: 0\n",
      "0 Job: student, Age: 26, State: 0\n",
      "1 Job: student, Age: 21, State: 0\n",
      "Size: 1, Infected: 0\n",
      "0 Job: high-income, Age: 30, State: 0\n",
      "Size: 4, Infected: 0\n",
      "0 Job: high-income, Age: 64, State: 0\n",
      "1 Job: high-income, Age: 67, State: 0\n",
      "2 Job: high-income, Age: 61, State: 0\n",
      "3 Job: high-income, Age: 69, State: 0\n",
      "Size: 4, Infected: 0\n",
      "0 Job: retired, Age: 69, State: 0\n",
      "1 Job: retired, Age: 74, State: 0\n",
      "2 Job: retired, Age: 73, State: 0\n",
      "3 Job: retired, Age: 71, State: 0\n",
      "Size: 1, Infected: 0\n",
      "0 Job: high-income, Age: 31, State: 0\n",
      "Size: 7, Infected: 0\n",
      "0 Job: high-income, Age: 61, State: 0\n",
      "1 Job: high-income, Age: 65, State: 0\n",
      "2 Job: high-income, Age: 66, State: 0\n",
      "3 Job: high-income, Age: 64, State: 0\n",
      "4 Job: high-income, Age: 57, State: 0\n",
      "5 Job: high-income, Age: 65, State: 0\n",
      "6 Job: high-income, Age: 63, State: 0\n",
      "Size: 5, Infected: 0\n",
      "0 Job: retired, Age: 50, State: 0\n",
      "1 Job: retired, Age: 53, State: 0\n",
      "2 Job: retired, Age: 50, State: 0\n",
      "3 Job: retired, Age: 51, State: 0\n",
      "4 Job: retired, Age: 49, State: 0\n",
      "Size: 1, Infected: 0\n",
      "0 Job: student, Age: 32, State: 0\n",
      "Size: 4, Infected: 0\n",
      "0 Job: student, Age: 26, State: 0\n",
      "1 Job: student, Age: 31, State: 0\n",
      "2 Job: student, Age: 21, State: 0\n",
      "3 Job: student, Age: 31, State: 0\n"
     ]
    }
   ],
   "source": [
    "for house in houses:\n",
    "    print(house)\n",
    "    for i, mem in enumerate(house.members):\n",
    "        print(i, mem)"
   ]
  }
 ],
 "metadata": {
  "colab": {
   "collapsed_sections": [],
   "name": "covid-19-transmission.ipynb",
   "provenance": []
  },
  "kernelspec": {
   "display_name": "Python 3",
   "language": "python",
   "name": "python3"
  },
  "language_info": {
   "codemirror_mode": {
    "name": "ipython",
    "version": 3
   },
   "file_extension": ".py",
   "mimetype": "text/x-python",
   "name": "python",
   "nbconvert_exporter": "python",
   "pygments_lexer": "ipython3",
   "version": "3.7.4"
  }
 },
 "nbformat": 4,
 "nbformat_minor": 1
}
