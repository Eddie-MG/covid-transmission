{
 "cells": [
  {
   "cell_type": "code",
   "execution_count": 1,
   "metadata": {
    "colab": {
     "base_uri": "https://localhost:8080/",
     "height": 34
    },
    "colab_type": "code",
    "executionInfo": {
     "elapsed": 1676,
     "status": "ok",
     "timestamp": 1585010860883,
     "user": {
      "displayName": "Kai Western",
      "photoUrl": "",
      "userId": "03358880396102366082"
     },
     "user_tz": 0
    },
    "id": "vAE6ObDKAGYy",
    "outputId": "dff86ba8-3291-4c00-b067-30d3d92e7836"
   },
   "outputs": [],
   "source": [
    "import pandas as pd\n",
    "import numpy as np\n",
    "import random"
   ]
  },
  {
   "cell_type": "markdown",
   "metadata": {
    "colab_type": "text",
    "id": "y169DRxCBasL"
   },
   "source": [
    "## Kai's Code"
   ]
  },
  {
   "cell_type": "code",
   "execution_count": 0,
   "metadata": {
    "colab": {},
    "colab_type": "code",
    "id": "QPV8FZJjARTg"
   },
   "outputs": [],
   "source": [
    "glob_pop = []\n",
    "\n",
    "# states\n",
    "states = ['well', 'infected-a', 'infected-s', 'recovered', 'dead']\n",
    "class dude:\n",
    "      def __init__(self, occupation, age, state=0, underlying_conditions=False, network=[]):\n",
    "        self.job = occupation\n",
    "        self.age = age\n",
    "        self.state = state\n",
    "        self.under_cond = underlying_conditions\n",
    "        self.network = {'john': 'near', 'james':'far'}\n",
    "        self.network = [groupa]\n",
    "        \n",
    "class group:\n",
    "    def __init__(self):\n",
    "        self.transmission_rate = 0.0\n",
    "        self.demographics = [0, 0, 0]\n",
    "        self.infected_count = 0\n",
    "        self.memebers = []\n",
    "        \n",
    "        \n",
    "\n",
    "Eddie = dude('developer', age=21)\n",
    "Kai = dude('student', age=21)\n",
    "Sihan = dude(occupation='student', age=22, state=0)\n",
    "\n"
   ]
  },
  {
   "cell_type": "markdown",
   "metadata": {
    "colab_type": "text",
    "id": "HdBLdZnIBesD"
   },
   "source": [
    "## Eddie's Code"
   ]
  },
  {
   "cell_type": "code",
   "execution_count": 22,
   "metadata": {
    "colab": {},
    "colab_type": "code",
    "id": "QPV8FZJjARTg"
   },
   "outputs": [],
   "source": [
    "glob_pop = []\n",
    "\n",
    "# states\n",
    "states = ['well', 'infected-a', 'infected-s', 'recovered', 'dead']\n",
    "jobs = ['student', 'doctor', 'lawyer', 'police person', 'shop assistant', 'unemployed', 'retired']\n",
    "job_type = ['student', 'high-income', 'low-income', 'retired']\n",
    "class dude:\n",
    "    def __init__(self, occupation, age, name, state=0, underlying_conditions=False, network=[]):\n",
    "        self.job = occupation\n",
    "        self.name = name\n",
    "        self.age = age\n",
    "        self.state = state\n",
    "        self.under_cond = underlying_conditions\n",
    "        self.network = network\n",
    "    \n",
    "    def __str__(self):\n",
    "        return \"Job: {}, Age: {}, State: {}\".format(self.job, self.age, self.state)\n",
    "        \n",
    "    def __repr__(self):\n",
    "        return \"Job: {}, Age: {}, State: {}\".format(self.job, self.age, self.state)\n",
    "        \n",
    "        \n",
    "class group:\n",
    "    def __init__(self, size, rate, code, type_):\n",
    "        self.code = code\n",
    "        self.type = type_\n",
    "        self.transmission_rate = rate\n",
    "        self.demographics = [0, 0, 0]\n",
    "        self.infected_count = 0\n",
    "        self.size = size\n",
    "        self.members = []\n",
    "        \n",
    "    def __str__(self):\n",
    "        return \"Size: {}, Infected: {}\".format(self.size, self.infected_count)\n",
    "    \n",
    "    def __repr__(self):\n",
    "        return \"Code: {}, Size: {}, Infected: {}\".format(self.code, self.size, self.infected_count)\n",
    "        \n",
    "    def display(self):\n",
    "        print(\"Code: {}, Size: {}, Infected: {}\".format(self.code, self.size, self.infected_count))\n",
    "        return\n",
    "\n",
    "def get_group(g_list, code):\n",
    "    for grp in g_list:\n",
    "        if grp.code == code:\n",
    "            grp.display()\n",
    "            return grp"
   ]
  },
  {
   "cell_type": "markdown",
   "metadata": {},
   "source": [
    "Initial population creation and first circle"
   ]
  },
  {
   "cell_type": "code",
   "execution_count": 23,
   "metadata": {},
   "outputs": [],
   "source": [
    "comm_size = 1000\n",
    "\n",
    "houses = []\n",
    "for i in range(0, comm_size):\n",
    "    rate = random.random()\n",
    "    size = random.randint(1, 7)\n",
    "    grp = group(size, rate, i, 'inner')\n",
    "    houses.append(grp)"
   ]
  },
  {
   "cell_type": "code",
   "execution_count": 24,
   "metadata": {},
   "outputs": [],
   "source": [
    "peeps = []\n",
    "for i in range(0, len(houses)):\n",
    "    job = random.choice(job_type)\n",
    "    age = random.randint(18, 80)\n",
    "    person = dude(job, age, i, network=[houses[i]])\n",
    "    houses[i].members.append(person)\n",
    "    peeps.append(person)"
   ]
  },
  {
   "cell_type": "code",
   "execution_count": 25,
   "metadata": {},
   "outputs": [],
   "source": [
    "pep_cnt = len(peeps)\n",
    "for house in houses:\n",
    "    job = house.members[0].job\n",
    "    \n",
    "    for new_member in range(0, house.size -1):\n",
    "        age = abs(house.members[0].age + random.randint(-5, 5))\n",
    "        person = dude(job, age, pep_cnt, network=[house])\n",
    "        house.members.append(person)\n",
    "        peeps.append(person)\n",
    "        pep_cnt +=1\n",
    "        "
   ]
  },
  {
   "cell_type": "markdown",
   "metadata": {},
   "source": [
    "Second Circle"
   ]
  },
  {
   "cell_type": "code",
   "execution_count": 26,
   "metadata": {},
   "outputs": [],
   "source": [
    "# Size of outer circles, dependent on populaiton size\n",
    "ocircle_size = int(len(peeps) * 0.008 + random.randint(-5, 5))"
   ]
  },
  {
   "cell_type": "code",
   "execution_count": 27,
   "metadata": {},
   "outputs": [],
   "source": [
    "# Number of outer circles, dependent on inner circle count\n",
    "ocircle_count = int((len(peeps) / ocircle_size) * 0.95)"
   ]
  },
  {
   "cell_type": "code",
   "execution_count": 28,
   "metadata": {},
   "outputs": [
    {
     "data": {
      "text/plain": [
       "3782"
      ]
     },
     "execution_count": 28,
     "metadata": {},
     "output_type": "execute_result"
    }
   ],
   "source": [
    "ocircle_size * ocircle_count"
   ]
  },
  {
   "cell_type": "code",
   "execution_count": 29,
   "metadata": {},
   "outputs": [],
   "source": [
    "ocircs = []\n",
    "for i in range(0, ocircle_count):\n",
    "    # Lower rates for outr circles\n",
    "    rate = random.uniform(0,0.5)\n",
    "    size = int(len(peeps) * 0.008 + random.randint(-5, 5))\n",
    "    grp = group(size, rate, i, 'outer')\n",
    "    ocircs.append(grp)"
   ]
  },
  {
   "cell_type": "code",
   "execution_count": 30,
   "metadata": {},
   "outputs": [],
   "source": [
    "for pepe in peeps:\n",
    "    nets = random.sample(ocircs, random.randint(1,3))\n",
    "    for net in nets:\n",
    "        net.members.append(pepe)\n",
    "        pepe.network.append(net)"
   ]
  },
  {
   "cell_type": "markdown",
   "metadata": {},
   "source": [
    "Explore the Networks"
   ]
  },
  {
   "cell_type": "code",
   "execution_count": 11,
   "metadata": {},
   "outputs": [
    {
     "name": "stdout",
     "output_type": "stream",
     "text": [
      "3333 Job: student, Age: 46, State: 0\n",
      "786 Size: 7, Infected: 0\n",
      "106 Size: 32, Infected: 0\n",
      "76 Size: 33, Infected: 0\n",
      "3701 Job: high-income, Age: 69, State: 0\n",
      "911 Size: 5, Infected: 0\n",
      "65 Size: 27, Infected: 0\n",
      "52 Size: 26, Infected: 0\n",
      "3004 Job: student, Age: 21, State: 0\n",
      "674 Size: 3, Infected: 0\n",
      "99 Size: 27, Infected: 0\n",
      "52 Size: 26, Infected: 0\n",
      "1273 Job: retired, Age: 38, State: 0\n",
      "90 Size: 3, Infected: 0\n",
      "100 Size: 30, Infected: 0\n",
      "40 Size: 28, Infected: 0\n",
      "1426 Job: high-income, Age: 59, State: 0\n",
      "144 Size: 5, Infected: 0\n",
      "68 Size: 32, Infected: 0\n",
      "63 Size: 30, Infected: 0\n",
      "30 Size: 34, Infected: 0\n"
     ]
    }
   ],
   "source": [
    "pepsam = random.sample(peeps, 5)\n",
    "\n",
    "for pep in pepsam:\n",
    "    print(pep.name, pep)\n",
    "    for net in pep.network:\n",
    "        print(net.code, net)"
   ]
  },
  {
   "cell_type": "code",
   "execution_count": 31,
   "metadata": {},
   "outputs": [
    {
     "name": "stdout",
     "output_type": "stream",
     "text": [
      "Code: 30, Size: 29, Infected: 0\n"
     ]
    },
    {
     "data": {
      "text/plain": [
       "Code: 30, Size: 29, Infected: 0"
      ]
     },
     "execution_count": 31,
     "metadata": {},
     "output_type": "execute_result"
    }
   ],
   "source": [
    "get_group(ocircs, 30)"
   ]
  },
  {
   "cell_type": "code",
   "execution_count": 14,
   "metadata": {},
   "outputs": [
    {
     "name": "stdout",
     "output_type": "stream",
     "text": [
      "Code: 30, Size: 34, Infected: 0\n"
     ]
    }
   ],
   "source": [
    "for cir in ocircs:\n",
    "    if cir.code == 30:\n",
    "        cir.display()"
   ]
  },
  {
   "cell_type": "code",
   "execution_count": 178,
   "metadata": {
    "scrolled": true
   },
   "outputs": [
    {
     "name": "stdout",
     "output_type": "stream",
     "text": [
      "Job: high-income, Age: 60, State: 0\n"
     ]
    }
   ],
   "source": [
    "print(random.choice(random.choice(ocircs).members))"
   ]
  },
  {
   "cell_type": "code",
   "execution_count": 180,
   "metadata": {},
   "outputs": [
    {
     "name": "stdout",
     "output_type": "stream",
     "text": [
      "Size: 2, Infected: 0\n"
     ]
    }
   ],
   "source": [
    "print(peeps[5].network[0])"
   ]
  }
 ],
 "metadata": {
  "colab": {
   "collapsed_sections": [],
   "name": "covid-19-transmission.ipynb",
   "provenance": []
  },
  "kernelspec": {
   "display_name": "Python 3",
   "language": "python",
   "name": "python3"
  },
  "language_info": {
   "codemirror_mode": {
    "name": "ipython",
    "version": 3
   },
   "file_extension": ".py",
   "mimetype": "text/x-python",
   "name": "python",
   "nbconvert_exporter": "python",
   "pygments_lexer": "ipython3",
   "version": "3.7.4"
  }
 },
 "nbformat": 4,
 "nbformat_minor": 1
}
