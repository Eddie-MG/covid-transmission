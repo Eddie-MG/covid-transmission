{
 "cells": [
  {
   "cell_type": "code",
   "execution_count": 2,
   "metadata": {
    "colab": {
     "base_uri": "https://localhost:8080/",
     "height": 34
    },
    "colab_type": "code",
    "executionInfo": {
     "elapsed": 1676,
     "status": "ok",
     "timestamp": 1585010860883,
     "user": {
      "displayName": "Kai Western",
      "photoUrl": "",
      "userId": "03358880396102366082"
     },
     "user_tz": 0
    },
    "id": "vAE6ObDKAGYy",
    "outputId": "dff86ba8-3291-4c00-b067-30d3d92e7836"
   },
   "outputs": [],
   "source": [
    "import pandas as pd\n",
    "import numpy as np\n",
    "import random"
   ]
  },
  {
   "cell_type": "markdown",
   "metadata": {
    "colab_type": "text",
    "id": "y169DRxCBasL"
   },
   "source": [
    "## Kai's Code"
   ]
  },
  {
   "cell_type": "code",
   "execution_count": 0,
   "metadata": {
    "colab": {},
    "colab_type": "code",
    "id": "QPV8FZJjARTg"
   },
   "outputs": [],
   "source": [
    "glob_pop = []\n",
    "\n",
    "# states\n",
    "states = ['well', 'infected-a', 'infected-s', 'recovered', 'dead']\n",
    "class dude:\n",
    "      def __init__(self, occupation, age, state=0, underlying_conditions=False, network=[]):\n",
    "        self.job = occupation\n",
    "        self.age = age\n",
    "        self.state = state\n",
    "        self.under_cond = underlying_conditions\n",
    "        self.network = {'john': 'near', 'james':'far'}\n",
    "        self.network = [groupa]\n",
    "        \n",
    "class group:\n",
    "    def __init__(self):\n",
    "        self.transmission_rate = 0.0\n",
    "        self.demographics = [0, 0, 0]\n",
    "        self.infected_count = 0\n",
    "        self.memebers = []\n",
    "        \n",
    "        \n",
    "\n",
    "Eddie = dude('developer', age=21)\n",
    "Kai = dude('student', age=21)\n",
    "Sihan = dude(occupation='student', age=22, state=0)\n",
    "\n"
   ]
  },
  {
   "cell_type": "markdown",
   "metadata": {
    "colab_type": "text",
    "id": "HdBLdZnIBesD"
   },
   "source": [
    "## Eddie's Code"
   ]
  },
  {
   "cell_type": "code",
   "execution_count": 13,
   "metadata": {
    "colab": {},
    "colab_type": "code",
    "id": "QPV8FZJjARTg"
   },
   "outputs": [],
   "source": [
    "glob_pop = []\n",
    "\n",
    "# states\n",
    "states = ['well', 'infected-a', 'infected-s', 'recovered', 'dead']\n",
    "jobs = ['student', 'doctor', 'lawyer', 'police person', 'shop assistant', 'unemployed', 'retired']\n",
    "class dude:\n",
    "    def __init__(self, occupation, age, state=0, underlying_conditions=False):\n",
    "        self.job = occupation\n",
    "        self.age = age\n",
    "        self.state = state\n",
    "        self.under_cond = underlying_conditions\n",
    "        self.network = []\n",
    "    \n",
    "    def __str__(self):\n",
    "            return \"Job: {}, Age: {}, State: {}\".format(self.job, self.age, self.state)\n",
    "        \n",
    "        \n",
    "class group:\n",
    "    def __init__(self):\n",
    "        self.transmission_rate = 0.0\n",
    "        self.demographics = [0, 0, 0]\n",
    "        self.infected_count = 0\n",
    "        self.memebers = []\n",
    "        "
   ]
  },
  {
   "cell_type": "code",
   "execution_count": 14,
   "metadata": {},
   "outputs": [],
   "source": [
    "peeps = []\n",
    "for i in range(0, 10):\n",
    "    job = random.choice(jobs)\n",
    "    age = random.randint(0, 80)\n",
    "    person = dude(job, age)\n",
    "    peeps.append(person)"
   ]
  },
  {
   "cell_type": "code",
   "execution_count": 15,
   "metadata": {},
   "outputs": [
    {
     "name": "stdout",
     "output_type": "stream",
     "text": [
      "Job: doctor, age: 5, state: 0\n",
      "Job: retired, age: 33, state: 0\n",
      "Job: unemployed, age: 72, state: 0\n",
      "Job: student, age: 48, state: 0\n",
      "Job: lawyer, age: 80, state: 0\n",
      "Job: shop assistant, age: 41, state: 0\n",
      "Job: unemployed, age: 66, state: 0\n",
      "Job: lawyer, age: 40, state: 0\n",
      "Job: shop assistant, age: 38, state: 0\n",
      "Job: retired, age: 17, state: 0\n"
     ]
    }
   ],
   "source": [
    "for pep in peeps:\n",
    "    print(pep)"
   ]
  },
  {
   "cell_type": "code",
   "execution_count": null,
   "metadata": {},
   "outputs": [],
   "source": []
  }
 ],
 "metadata": {
  "colab": {
   "collapsed_sections": [],
   "name": "covid-19-transmission.ipynb",
   "provenance": []
  },
  "kernelspec": {
   "display_name": "Python 3",
   "language": "python",
   "name": "python3"
  },
  "language_info": {
   "codemirror_mode": {
    "name": "ipython",
    "version": 3
   },
   "file_extension": ".py",
   "mimetype": "text/x-python",
   "name": "python",
   "nbconvert_exporter": "python",
   "pygments_lexer": "ipython3",
   "version": "3.7.4"
  }
 },
 "nbformat": 4,
 "nbformat_minor": 1
}
