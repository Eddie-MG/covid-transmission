{
 "cells": [
  {
   "cell_type": "code",
   "execution_count": 1,
   "metadata": {
    "colab": {
     "base_uri": "https://localhost:8080/",
     "height": 34
    },
    "colab_type": "code",
    "executionInfo": {
     "elapsed": 1676,
     "status": "ok",
     "timestamp": 1585010860883,
     "user": {
      "displayName": "Kai Western",
      "photoUrl": "",
      "userId": "03358880396102366082"
     },
     "user_tz": 0
    },
    "id": "vAE6ObDKAGYy",
    "outputId": "dff86ba8-3291-4c00-b067-30d3d92e7836"
   },
   "outputs": [],
   "source": [
    "import pandas as pd\n",
    "import numpy as np\n",
    "import random"
   ]
  },
  {
   "cell_type": "markdown",
   "metadata": {
    "colab_type": "text",
    "id": "y169DRxCBasL"
   },
   "source": [
    "## Kai's Code"
   ]
  },
  {
   "cell_type": "code",
   "execution_count": 0,
   "metadata": {
    "colab": {},
    "colab_type": "code",
    "id": "QPV8FZJjARTg"
   },
   "outputs": [],
   "source": [
    "glob_pop = []\n",
    "\n",
    "# states\n",
    "states = ['well', 'infected-a', 'infected-s', 'recovered', 'dead']\n",
    "class dude:\n",
    "      def __init__(self, occupation, age, state=0, underlying_conditions=False, network=[]):\n",
    "        self.job = occupation\n",
    "        self.age = age\n",
    "        self.state = state\n",
    "        self.under_cond = underlying_conditions\n",
    "        self.network = {'john': 'near', 'james':'far'}\n",
    "        self.network = [groupa]\n",
    "        \n",
    "class group:\n",
    "    def __init__(self):\n",
    "        self.transmission_rate = 0.0\n",
    "        self.demographics = [0, 0, 0]\n",
    "        self.infected_count = 0\n",
    "        self.memebers = []\n",
    "        \n",
    "        \n",
    "\n",
    "Eddie = dude('developer', age=21)\n",
    "Kai = dude('student', age=21)\n",
    "Sihan = dude(occupation='student', age=22, state=0)\n",
    "\n"
   ]
  },
  {
   "cell_type": "markdown",
   "metadata": {
    "colab_type": "text",
    "id": "HdBLdZnIBesD"
   },
   "source": [
    "## Eddie's Code"
   ]
  },
  {
   "cell_type": "code",
   "execution_count": 140,
   "metadata": {
    "colab": {},
    "colab_type": "code",
    "id": "QPV8FZJjARTg"
   },
   "outputs": [],
   "source": [
    "glob_pop = []\n",
    "\n",
    "# states\n",
    "states = ['well', 'infected-a', 'infected-s', 'recovered', 'dead']\n",
    "jobs = ['student', 'doctor', 'lawyer', 'police person', 'shop assistant', 'unemployed', 'retired']\n",
    "job_type = ['student', 'high-income', 'low-income', 'retired']\n",
    "class dude:\n",
    "    def __init__(self, occupation, age, name, state=0, underlying_conditions=False, network=[]):\n",
    "        self.job = occupation\n",
    "        self.name = name\n",
    "        self.age = age\n",
    "        self.state = state\n",
    "        self.under_cond = underlying_conditions\n",
    "        self.network = network\n",
    "    \n",
    "    def __str__(self):\n",
    "        return \"Job: {}, Age: {}, State: {}\".format(self.job, self.age, self.state)\n",
    "        \n",
    "    def __repr__(self):\n",
    "        return \"Job: {}, Age: {}, State: {}\".format(self.job, self.age, self.state)\n",
    "    \n",
    "    def infect(self):\n",
    "        # The person is more likely to be symptomatic (but this is assumed).\n",
    "        self.state = random.choices([1,2], [1,3])[0]\n",
    "        return self\n",
    "        \n",
    "    def uninfect(self):\n",
    "        # The person was not actually infected\n",
    "        self.state = 0\n",
    "        return self\n",
    "    \n",
    "    def recover(self):\n",
    "        # The person was infected but has now recovered\n",
    "        self.state = 3\n",
    "        return self\n",
    "        \n",
    "class group:\n",
    "    def __init__(self, size, rate, code, type_):\n",
    "        self.code = code\n",
    "        self.type = type_\n",
    "        self.transmission_rate = rate\n",
    "        self.demographics = [0, 0, 0]\n",
    "        self.infected_count = 0\n",
    "        self.size = size\n",
    "        self.members = []\n",
    "        \n",
    "    def __str__(self):\n",
    "        return \"Size: {}, Infected: {}\".format(self.size, self.infected_count)\n",
    "    \n",
    "    def __repr__(self):\n",
    "        return \"Code: {}, Size: {}, Infected: {}, T-rate: {:.2f}\".format(self.code, self.size, self.infected_count, self.transmission_rate)\n",
    "        \n",
    "    def display(self):\n",
    "        print(\"Code: {}, Size: {}, Infected: {}\".format(self.code, self.size, self.infected_count))\n",
    "        return\n",
    "\n",
    "def get_group(g_list, code):\n",
    "    for grp in g_list:\n",
    "        if grp.code == code:\n",
    "            return grp\n",
    "        \n",
    "def get_person(p_list, name):\n",
    "    for p in p_list:\n",
    "        if p.name == name:\n",
    "            return p\n",
    "    print('No person with this name')\n",
    "    return None\n",
    "        \n",
    "def build_df(lst, what):\n",
    "    if what == 'g':\n",
    "        dct = {'code': [], 'type': [], 't-rate': [], 'size': []}\n",
    "    \n",
    "        for thing in lst:\n",
    "            for tin in thing:\n",
    "                dct['code'].append(tin.code)\n",
    "                dct['type'].append(tin.type)\n",
    "                dct['t-rate'].append(tin.transmission_rate)\n",
    "                dct['size'].append(tin.size)\n",
    "                \n",
    "    else:\n",
    "        dct = {'name': [], 'age': [], 'state': [], 'job': []}\n",
    "    \n",
    "        for thing in lst:\n",
    "            for tin in thing:\n",
    "                dct['name'].append(tin.name)\n",
    "                dct['age'].append(tin.age)\n",
    "                dct['state'].append(tin.state)\n",
    "                dct['job'].append(tin.job)\n",
    "    \n",
    "    return pd.DataFrame(dct)\n",
    "\n",
    "def create_houses(comm_size):\n",
    "    houses = []\n",
    "    \n",
    "    for i in range(0, comm_size):\n",
    "        rate = random.random()\n",
    "        size = random.randint(1, 7)\n",
    "        grp = group(size, rate, i, 'inner')\n",
    "        houses.append(grp)\n",
    "    return houses\n",
    "\n",
    "def init_peeps(houses):\n",
    "    peeps = []\n",
    "    \n",
    "    for i in range(0, len(houses)):\n",
    "        job = random.choice(job_type)\n",
    "        age = random.randint(18, 80)\n",
    "        person = dude(job, age, i, network=[houses[i]])\n",
    "        houses[i].members.append(person)\n",
    "        peeps.append(person)\n",
    "        \n",
    "    return peeps\n",
    "\n",
    "def populate_houses(people, hs):\n",
    "    pep_cnt = len(people)\n",
    "    \n",
    "    for house in hs:\n",
    "        job = house.members[0].job\n",
    "\n",
    "        for new_member in range(0, house.size -1):\n",
    "            age = abs(house.members[0].age + random.randint(-5, 5))\n",
    "            person = dude(job, age, pep_cnt, network=[house])\n",
    "            house.members.append(person)\n",
    "            people.append(person)\n",
    "            pep_cnt +=1\n",
    "            \n",
    "    return\n",
    "\n",
    "def genesis(comm_size):\n",
    "    houses = create_houses(comm_size)\n",
    "    \n",
    "    peeps = init_peeps(houses)\n",
    "    \n",
    "    populate_houses(peeps, houses)\n",
    "    \n",
    "    return houses, peeps\n",
    "        "
   ]
  },
  {
   "cell_type": "markdown",
   "metadata": {},
   "source": [
    "### Initial population creation and first circle"
   ]
  },
  {
   "cell_type": "code",
   "execution_count": 141,
   "metadata": {},
   "outputs": [],
   "source": [
    "houses, peeps = genesis(1000)"
   ]
  },
  {
   "cell_type": "markdown",
   "metadata": {},
   "source": [
    "### Second Circle"
   ]
  },
  {
   "cell_type": "code",
   "execution_count": 142,
   "metadata": {},
   "outputs": [],
   "source": [
    "# Size of outer circles, dependent on populaiton size\n",
    "ocircle_size = int(len(peeps) * 0.008 + random.randint(-5, 5))"
   ]
  },
  {
   "cell_type": "code",
   "execution_count": 143,
   "metadata": {},
   "outputs": [],
   "source": [
    "# Number of outer circles, dependent on inner circle count\n",
    "ocircle_count = int((len(peeps) / ocircle_size) * 0.95)"
   ]
  },
  {
   "cell_type": "code",
   "execution_count": 144,
   "metadata": {},
   "outputs": [
    {
     "data": {
      "text/plain": [
       "3861"
      ]
     },
     "execution_count": 144,
     "metadata": {},
     "output_type": "execute_result"
    }
   ],
   "source": [
    "ocircle_size * ocircle_count"
   ]
  },
  {
   "cell_type": "code",
   "execution_count": 145,
   "metadata": {},
   "outputs": [],
   "source": [
    "ocircs = []\n",
    "for i in range(0, ocircle_count):\n",
    "    # Lower rates for outr circles\n",
    "    rate = random.uniform(0,0.5)\n",
    "    size = int(len(peeps) * 0.008 + random.randint(-5, 5))\n",
    "    grp = group(size, rate, i, 'outer')\n",
    "    ocircs.append(grp)"
   ]
  },
  {
   "cell_type": "code",
   "execution_count": 146,
   "metadata": {},
   "outputs": [],
   "source": [
    "for pepe in peeps:\n",
    "    nets = random.sample(ocircs, random.randint(1,3))\n",
    "    for net in nets:\n",
    "        net.members.append(pepe)\n",
    "        pepe.network.append(net)"
   ]
  },
  {
   "cell_type": "markdown",
   "metadata": {},
   "source": [
    "### Explore the Networks"
   ]
  },
  {
   "cell_type": "code",
   "execution_count": 147,
   "metadata": {
    "scrolled": true
   },
   "outputs": [
    {
     "name": "stdout",
     "output_type": "stream",
     "text": [
      "822 Job: retired, Age: 76, State: 0\n",
      "822 Size: 2, Infected: 0\n",
      "18 Size: 37, Infected: 0\n",
      "69 Size: 34, Infected: 0\n",
      "66 Size: 27, Infected: 0\n",
      "2579 Job: high-income, Age: 54, State: 0\n",
      "513 Size: 4, Infected: 0\n",
      "11 Size: 30, Infected: 0\n",
      "25 Size: 34, Infected: 0\n",
      "82 Size: 28, Infected: 0\n",
      "3045 Job: retired, Age: 77, State: 0\n",
      "665 Size: 5, Infected: 0\n",
      "34 Size: 36, Infected: 0\n",
      "138 Size: 33, Infected: 0\n",
      "131 Size: 27, Infected: 0\n",
      "4031 Job: low-income, Age: 79, State: 0\n",
      "987 Size: 5, Infected: 0\n",
      "66 Size: 27, Infected: 0\n",
      "127 Size: 33, Infected: 0\n",
      "1141 Job: low-income, Age: 19, State: 0\n",
      "44 Size: 5, Infected: 0\n",
      "62 Size: 29, Infected: 0\n",
      "10 Size: 28, Infected: 0\n",
      "64 Size: 27, Infected: 0\n"
     ]
    }
   ],
   "source": [
    "pepsam = random.sample(peeps, 5)\n",
    "\n",
    "for pep in pepsam:\n",
    "    print(pep.name, pep)\n",
    "    for net in pep.network:\n",
    "        print(net.code, net)"
   ]
  },
  {
   "cell_type": "code",
   "execution_count": 148,
   "metadata": {},
   "outputs": [
    {
     "data": {
      "text/plain": [
       "Code: 32, Size: 31, Infected: 0, T-rate: 0.18"
      ]
     },
     "execution_count": 148,
     "metadata": {},
     "output_type": "execute_result"
    }
   ],
   "source": [
    "get_group(ocircs, 32)"
   ]
  },
  {
   "cell_type": "code",
   "execution_count": 149,
   "metadata": {},
   "outputs": [
    {
     "name": "stdout",
     "output_type": "stream",
     "text": [
      "Code: 30, Size: 29, Infected: 0\n"
     ]
    }
   ],
   "source": [
    "for cir in ocircs:\n",
    "    if cir.code == 30:\n",
    "        cir.display()"
   ]
  },
  {
   "cell_type": "code",
   "execution_count": 150,
   "metadata": {
    "scrolled": true
   },
   "outputs": [
    {
     "name": "stdout",
     "output_type": "stream",
     "text": [
      "Job: high-income, Age: 64, State: 0\n"
     ]
    }
   ],
   "source": [
    "print(random.choice(random.choice(ocircs).members))"
   ]
  },
  {
   "cell_type": "code",
   "execution_count": 151,
   "metadata": {},
   "outputs": [
    {
     "name": "stdout",
     "output_type": "stream",
     "text": [
      "Size: 5, Infected: 0\n"
     ]
    }
   ],
   "source": [
    "print(peeps[5].network[0])"
   ]
  },
  {
   "cell_type": "markdown",
   "metadata": {},
   "source": [
    "### Community Code Infrastructure"
   ]
  },
  {
   "cell_type": "code",
   "execution_count": 152,
   "metadata": {
    "scrolled": true
   },
   "outputs": [
    {
     "data": {
      "text/html": [
       "<div>\n",
       "<style scoped>\n",
       "    .dataframe tbody tr th:only-of-type {\n",
       "        vertical-align: middle;\n",
       "    }\n",
       "\n",
       "    .dataframe tbody tr th {\n",
       "        vertical-align: top;\n",
       "    }\n",
       "\n",
       "    .dataframe thead th {\n",
       "        text-align: right;\n",
       "    }\n",
       "</style>\n",
       "<table border=\"1\" class=\"dataframe\">\n",
       "  <thead>\n",
       "    <tr style=\"text-align: right;\">\n",
       "      <th></th>\n",
       "      <th>code</th>\n",
       "      <th>type</th>\n",
       "      <th>t-rate</th>\n",
       "      <th>size</th>\n",
       "    </tr>\n",
       "  </thead>\n",
       "  <tbody>\n",
       "    <tr>\n",
       "      <td>0</td>\n",
       "      <td>0</td>\n",
       "      <td>inner</td>\n",
       "      <td>0.447218</td>\n",
       "      <td>2</td>\n",
       "    </tr>\n",
       "    <tr>\n",
       "      <td>1</td>\n",
       "      <td>1</td>\n",
       "      <td>inner</td>\n",
       "      <td>0.423672</td>\n",
       "      <td>4</td>\n",
       "    </tr>\n",
       "    <tr>\n",
       "      <td>2</td>\n",
       "      <td>2</td>\n",
       "      <td>inner</td>\n",
       "      <td>0.301294</td>\n",
       "      <td>5</td>\n",
       "    </tr>\n",
       "    <tr>\n",
       "      <td>3</td>\n",
       "      <td>3</td>\n",
       "      <td>inner</td>\n",
       "      <td>0.852230</td>\n",
       "      <td>5</td>\n",
       "    </tr>\n",
       "    <tr>\n",
       "      <td>4</td>\n",
       "      <td>4</td>\n",
       "      <td>inner</td>\n",
       "      <td>0.102066</td>\n",
       "      <td>6</td>\n",
       "    </tr>\n",
       "    <tr>\n",
       "      <td>...</td>\n",
       "      <td>...</td>\n",
       "      <td>...</td>\n",
       "      <td>...</td>\n",
       "      <td>...</td>\n",
       "    </tr>\n",
       "    <tr>\n",
       "      <td>1138</td>\n",
       "      <td>138</td>\n",
       "      <td>outer</td>\n",
       "      <td>0.494229</td>\n",
       "      <td>33</td>\n",
       "    </tr>\n",
       "    <tr>\n",
       "      <td>1139</td>\n",
       "      <td>139</td>\n",
       "      <td>outer</td>\n",
       "      <td>0.396546</td>\n",
       "      <td>31</td>\n",
       "    </tr>\n",
       "    <tr>\n",
       "      <td>1140</td>\n",
       "      <td>140</td>\n",
       "      <td>outer</td>\n",
       "      <td>0.494731</td>\n",
       "      <td>36</td>\n",
       "    </tr>\n",
       "    <tr>\n",
       "      <td>1141</td>\n",
       "      <td>141</td>\n",
       "      <td>outer</td>\n",
       "      <td>0.461375</td>\n",
       "      <td>30</td>\n",
       "    </tr>\n",
       "    <tr>\n",
       "      <td>1142</td>\n",
       "      <td>142</td>\n",
       "      <td>outer</td>\n",
       "      <td>0.005398</td>\n",
       "      <td>34</td>\n",
       "    </tr>\n",
       "  </tbody>\n",
       "</table>\n",
       "<p>1143 rows × 4 columns</p>\n",
       "</div>"
      ],
      "text/plain": [
       "      code   type    t-rate  size\n",
       "0        0  inner  0.447218     2\n",
       "1        1  inner  0.423672     4\n",
       "2        2  inner  0.301294     5\n",
       "3        3  inner  0.852230     5\n",
       "4        4  inner  0.102066     6\n",
       "...    ...    ...       ...   ...\n",
       "1138   138  outer  0.494229    33\n",
       "1139   139  outer  0.396546    31\n",
       "1140   140  outer  0.494731    36\n",
       "1141   141  outer  0.461375    30\n",
       "1142   142  outer  0.005398    34\n",
       "\n",
       "[1143 rows x 4 columns]"
      ]
     },
     "execution_count": 152,
     "metadata": {},
     "output_type": "execute_result"
    }
   ],
   "source": [
    "build_df([houses, ocircs], 'g')"
   ]
  },
  {
   "cell_type": "code",
   "execution_count": 153,
   "metadata": {},
   "outputs": [
    {
     "data": {
      "text/html": [
       "<div>\n",
       "<style scoped>\n",
       "    .dataframe tbody tr th:only-of-type {\n",
       "        vertical-align: middle;\n",
       "    }\n",
       "\n",
       "    .dataframe tbody tr th {\n",
       "        vertical-align: top;\n",
       "    }\n",
       "\n",
       "    .dataframe thead th {\n",
       "        text-align: right;\n",
       "    }\n",
       "</style>\n",
       "<table border=\"1\" class=\"dataframe\">\n",
       "  <thead>\n",
       "    <tr style=\"text-align: right;\">\n",
       "      <th></th>\n",
       "      <th>name</th>\n",
       "      <th>age</th>\n",
       "      <th>state</th>\n",
       "      <th>job</th>\n",
       "    </tr>\n",
       "  </thead>\n",
       "  <tbody>\n",
       "    <tr>\n",
       "      <td>4073</td>\n",
       "      <td>4073</td>\n",
       "      <td>61</td>\n",
       "      <td>0</td>\n",
       "      <td>high-income</td>\n",
       "    </tr>\n",
       "    <tr>\n",
       "      <td>4074</td>\n",
       "      <td>4074</td>\n",
       "      <td>47</td>\n",
       "      <td>0</td>\n",
       "      <td>low-income</td>\n",
       "    </tr>\n",
       "    <tr>\n",
       "      <td>4075</td>\n",
       "      <td>4075</td>\n",
       "      <td>47</td>\n",
       "      <td>0</td>\n",
       "      <td>low-income</td>\n",
       "    </tr>\n",
       "    <tr>\n",
       "      <td>4076</td>\n",
       "      <td>4076</td>\n",
       "      <td>51</td>\n",
       "      <td>0</td>\n",
       "      <td>low-income</td>\n",
       "    </tr>\n",
       "    <tr>\n",
       "      <td>4077</td>\n",
       "      <td>4077</td>\n",
       "      <td>48</td>\n",
       "      <td>0</td>\n",
       "      <td>low-income</td>\n",
       "    </tr>\n",
       "  </tbody>\n",
       "</table>\n",
       "</div>"
      ],
      "text/plain": [
       "      name  age  state          job\n",
       "4073  4073   61      0  high-income\n",
       "4074  4074   47      0   low-income\n",
       "4075  4075   47      0   low-income\n",
       "4076  4076   51      0   low-income\n",
       "4077  4077   48      0   low-income"
      ]
     },
     "execution_count": 153,
     "metadata": {},
     "output_type": "execute_result"
    }
   ],
   "source": [
    "build_df([peeps], 'p').tail()"
   ]
  },
  {
   "cell_type": "markdown",
   "metadata": {},
   "source": [
    "### Transmission Simuation"
   ]
  },
  {
   "cell_type": "code",
   "execution_count": 154,
   "metadata": {},
   "outputs": [
    {
     "name": "stdout",
     "output_type": "stream",
     "text": [
      "3594 0\n",
      "3594 2\n"
     ]
    }
   ],
   "source": [
    "# Begin by infecting one person\n",
    "r_pep = random.choice(peeps)\n",
    "print(r_pep.name, r_pep.state)\n",
    "r_pep.infect()\n",
    "print(r_pep.name, r_pep.state)"
   ]
  },
  {
   "cell_type": "code",
   "execution_count": 155,
   "metadata": {},
   "outputs": [
    {
     "data": {
      "text/plain": [
       "Job: retired, Age: 72, State: 2"
      ]
     },
     "execution_count": 155,
     "metadata": {},
     "output_type": "execute_result"
    }
   ],
   "source": [
    "get_person(peeps, 3594)"
   ]
  }
 ],
 "metadata": {
  "colab": {
   "collapsed_sections": [],
   "name": "covid-19-transmission.ipynb",
   "provenance": []
  },
  "kernelspec": {
   "display_name": "Python 3",
   "language": "python",
   "name": "python3"
  },
  "language_info": {
   "codemirror_mode": {
    "name": "ipython",
    "version": 3
   },
   "file_extension": ".py",
   "mimetype": "text/x-python",
   "name": "python",
   "nbconvert_exporter": "python",
   "pygments_lexer": "ipython3",
   "version": "3.7.4"
  }
 },
 "nbformat": 4,
 "nbformat_minor": 1
}
